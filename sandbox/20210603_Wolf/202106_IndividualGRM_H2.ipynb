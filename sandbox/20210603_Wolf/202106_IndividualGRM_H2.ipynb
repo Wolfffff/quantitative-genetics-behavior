{
 "cells": [
  {
   "cell_type": "code",
   "execution_count": 3,
   "id": "looking-trance",
   "metadata": {},
   "outputs": [],
   "source": [
    "library(ggplot2)\n",
    "library(plyr)\n",
    "library(tidyverse)\n",
    "library(GridLMM)\n",
    "library(snpStats)\n",
    "library(qq)\n",
    "library(lme4qtl)\n",
    "library(sjstats)\n",
    "library(wesanderson)\n",
    "\n",
    "traits <- c('movement_count','mean_movement_length','speed_in_movement_mean','dist_travelled')\n",
    "\n",
    "f1s_df_ts <- read.csv(\"f1s_df_ts.csv\")\n",
    "parents_df_ts <- read.csv(\"parents_df_ts.csv\")\n",
    "\n",
    "f1s_df_36 <- read.csv(\"f1s_df_36.csv\")\n",
    "parents_df_36 <- read.csv(\"parents_df_36.csv\")\n",
    "\n",
    "grm <- as.matrix(read.table(\"female_parents.biSNP.sing.HW.gatk.GQfilter.MAF05.w100s1r08.rel\"))\n",
    "colnames(grm) <- rownames(grm) <- read.table(\"female_parents.biSNP.sing.HW.gatk.GQfilter.MAF05.w100s1r08.rel.id\")[,2]\n",
    "\n",
    "f1_grm <- grm[grep(\"F1\",colnames(grm)),grep(\"F1\",colnames(grm))]\n",
    "p_grm <- grm[-grep(\"F1\",colnames(grm)),-grep(\"F1\",colnames(grm))]\n",
    "\n",
    "f1s <- grep(\"_S\",row.names(grm))\n",
    "parental_grm <- as.matrix(grm)\n",
    "\n",
    "family <- sapply(row.names(parental_grm),FUN=function(x){strsplit(x,\"_\")[[1]][4]})\n",
    "row.names(parental_grm) <- colnames(parental_grm) <- family"
   ]
  },
  {
   "cell_type": "code",
   "execution_count": 2,
   "id": "dramatic-maintenance",
   "metadata": {},
   "outputs": [],
   "source": [
    "f1s_df_ts <- f1s_df_ts[f1s_df_ts$Family %in% colnames(parental_grm),]\n",
    "\n",
    "\n",
    "#Filtering as needed\n",
    "combined_filtered_df <- f1s_df_ts\n",
    "combined_filtered_df = combined_filtered_df[which(combined_filtered_df$Empty == F),]\n",
    "combined_filtered_df = combined_filtered_df[which(!is.na(combined_filtered_df$Treatment)),]\n",
    "combined_filtered_df = combined_filtered_df[which(!is.na(combined_filtered_df$Batch)),]\n",
    "# Account for framerate\n",
    "combined_filtered_df$dist_travelled <- combined_filtered_df$dist_travelled/10\n",
    "\n",
    "#Ensure the flies still move some -- no dead flies!\n",
    "# combined_filtered_df = combined_filtered_df[which(combined_filtered_df$movement_count > 10),]\n",
    "# combined_filtered_df = combined_filtered_df[which(combined_filtered_df$movement_count < 10000),]\n",
    "# combined_filtered_df = combined_filtered_df[which(combined_filtered_df$mean_of_mean_in_movement_speed < 100),]\n",
    "# combined_filtered_df = combined_filtered_df[combined_filtered_df$vel_par_in_movement_mean > 5 & combined_filtered_df$vel_par_in_movement_mean < 100,]\n",
    "# combined_filtered_df <- combined_filtered_df[which(combined_filtered_df$speed_in_movement_var < 500),]\n",
    "# combined_filtered_df <- combined_filtered_df[which(combined_filtered_df$mean_mov < 20000),]\n",
    "\n",
    "\n",
    "f1s_df_ts <- combined_filtered_df\n",
    "\n",
    "#Append meaningful individual ID\n",
    "f1s_df_ts$indiv_id <- paste0(f1s_df_ts$Batch,\"_\",f1s_df_ts$Family,\"_\",f1s_df_ts$Well_orderAsTracked)"
   ]
  },
  {
   "cell_type": "code",
   "execution_count": 3,
   "id": "personalized-wallace",
   "metadata": {},
   "outputs": [],
   "source": [
    "f1s_df_36 <- f1s_df_36[f1s_df_36$Family %in% colnames(parental_grm),]\n",
    "\n",
    "\n",
    "#Filtering as needed\n",
    "combined_filtered_df <- f1s_df_36\n",
    "combined_filtered_df = combined_filtered_df[which(combined_filtered_df$Empty == F),]\n",
    "combined_filtered_df = combined_filtered_df[which(!is.na(combined_filtered_df$Treatment)),]\n",
    "combined_filtered_df = combined_filtered_df[which(!is.na(combined_filtered_df$Batch)),]\n",
    "# Account for framerate\n",
    "combined_filtered_df$dist_travelled <- combined_filtered_df$dist_travelled/10\n",
    "\n",
    "#Ensure the flies still move some -- no dead flies!\n",
    "# combined_filtered_df = combined_filtered_df[which(combined_filtered_df$movement_count > 10),]\n",
    "# combined_filtered_df = combined_filtered_df[which(combined_filtered_df$movement_count < 10000),]\n",
    "# combined_filtered_df = combined_filtered_df[which(combined_filtered_df$mean_of_mean_in_movement_speed < 100),]\n",
    "# combined_filtered_df = combined_filtered_df[combined_filtered_df$vel_par_in_movement_mean > 5 & combined_filtered_df$vel_par_in_movement_mean < 100,]\n",
    "# combined_filtered_df <- combined_filtered_df[which(combined_filtered_df$speed_in_movement_var < 500),]\n",
    "# combined_filtered_df <- combined_filtered_df[which(combined_filtered_df$mean_mov < 20000),]\n",
    "\n",
    "\n",
    "f1s_df_36 <- combined_filtered_df\n",
    "\n",
    "#Append meaningful individual ID\n",
    "f1s_df_36$indiv_id <- paste0(f1s_df_36$Batch,\"_\",f1s_df_36$Family,\"_\",f1s_df_36$Well_orderAsTracked)"
   ]
  },
  {
   "cell_type": "markdown",
   "id": "nearby-empire",
   "metadata": {},
   "source": [
    "# Generate the individual level GRM\n",
    "Here we build a matrix for each family"
   ]
  },
  {
   "cell_type": "code",
   "execution_count": 13,
   "id": "ahead-england",
   "metadata": {},
   "outputs": [],
   "source": [
    "#We will need a list of matrices to create our block diag matrix later!\n",
    "matrices = list()\n",
    "names <- c()\n",
    "\n",
    "#We also need to sort everything so that we can use \n",
    "\n",
    "nFams <- length(unique(f1s_df_36$Family))\n",
    "nGenotypes <- nrow(parental_grm)"
   ]
  },
  {
   "cell_type": "code",
   "execution_count": 14,
   "id": "fixed-idaho",
   "metadata": {},
   "outputs": [],
   "source": [
    "sorting_vec <- c()\n",
    "for (family in unique(f1s_df_36$Family)) {\n",
    "    n_indiv <- nrow(f1s_df_36[f1s_df_36$Family == toString(family), ])\n",
    "    names <- append(names,rep(as.integer(family),n_indiv))\n",
    "    sorting_vec <- append(sorting_vec,which(f1s_df_36$Family == toString(family)))\n",
    "    # Defines within family relatedness\n",
    "    matrices[[toString(family)]] = matrix(rep(.75, n_indiv ** 2), nrow = n_indiv)\n",
    "    diag(matrices[[toString(family)]]) <- rep(1,n_indiv)\n",
    "}"
   ]
  },
  {
   "cell_type": "code",
   "execution_count": 15,
   "id": "human-hygiene",
   "metadata": {},
   "outputs": [],
   "source": [
    "# Sort according to the ordering of our blocks\n",
    "f1s_df_36 <- f1s_df_36[sorting_vec,]\n",
    "# Expand parental grm according to number of individuals for each family\n",
    "modified_grm <- matrix(nrow = length(names),ncol=length(names))\n",
    "row.names(modified_grm) <- colnames(modified_grm) <- names\n",
    "mgrm_cnames = colnames(modified_grm)\n",
    "mgrm_rnames = rownames(modified_grm)"
   ]
  },
  {
   "cell_type": "code",
   "execution_count": 16,
   "id": "great-adelaide",
   "metadata": {},
   "outputs": [],
   "source": [
    "for (i in 1:nFams) {\n",
    "  name = colnames(parental_grm)[i]\n",
    "  for (j in i:nFams) {\n",
    "    name_2= colnames(parental_grm)[j] \n",
    "    modified_grm[which(mgrm_rnames == name), which(mgrm_cnames == name_2)] <-\n",
    "      modified_grm[which(mgrm_rnames == name_2), which(mgrm_cnames == name)] <-\n",
    "      0.5#  + parental_grm[toString(name), toString(name_2)]/2 \n",
    "      # Above defines the off diagonals! Probably the place to start for tweaking things.\n",
    "  }\n",
    "}"
   ]
  },
  {
   "cell_type": "code",
   "execution_count": 17,
   "id": "valued-spray",
   "metadata": {},
   "outputs": [],
   "source": [
    "# Build diagonal matrix and fill values in our GRM\n",
    "block_diag_mat <- as.matrix(bdiag(matrices))\n",
    "modified_grm[which(block_diag_mat != 0)] = block_diag_mat[which(block_diag_mat != 0)]\n",
    "rownames(modified_grm) <- colnames(modified_grm) <- names"
   ]
  },
  {
   "cell_type": "code",
   "execution_count": 18,
   "id": "mathematical-witch",
   "metadata": {},
   "outputs": [],
   "source": [
    "f1s_df_36 <- f1s_df_36[sorting_vec,]\n",
    "modified_grm_id_tagged <- modified_grm\n",
    "colnames(modified_grm_id_tagged) <- rownames(modified_grm_id_tagged) <- f1s_df_36$indiv_id"
   ]
  },
  {
   "cell_type": "raw",
   "id": "lesser-manhattan",
   "metadata": {},
   "source": [
    "Now we have an individual level grm tagged by individual ids!"
   ]
  },
  {
   "cell_type": "code",
   "execution_count": 20,
   "id": "loaded-drama",
   "metadata": {},
   "outputs": [],
   "source": [
    "h2_estimates <- data.frame(trait=character(),\n",
    "                 treatment=character(),\n",
    "                 h2=numeric(), \n",
    "                 slicetime=numeric(),\n",
    "                 se=numeric(),\n",
    "                 p=numeric()) \n",
    "traits <- c('movement_count','mean_movement_length','speed_in_movement_mean','dist_travelled')"
   ]
  },
  {
   "cell_type": "code",
   "execution_count": 32,
   "id": "employed-slide",
   "metadata": {},
   "outputs": [],
   "source": [
    "# for (trait in traits){\n",
    "#     print(trait)\n",
    "#     for (treatment in c(\"C\",\"R\",\"HS\")){\n",
    "#         print(treatment)\n",
    "#         for (time in c(0,32)){\n",
    "#             print(time)\n",
    "#             slice <- f1s_df_ts[f1s_df_ts$Treatment == treatment & f1s_df_ts$slicetime == time,]#mapping_df[mapping_df$Treatment == treatment & mapping_df$slicetime == time,]\n",
    "#             # This drops more data than \n",
    "#             slice <- slice[slice$indiv_id %in% rownames(modified_grm_id_tagged),]\n",
    "#             slice <- slice[1:100,]\n",
    "#             form = as.formula(paste0(trait, \"~\",\"1 + (1 | indiv_id)\"))\n",
    "#             full_mod <- relmatLmer(form,slice,relmat = list(indiv_id = modified_grm_id_tagged),calc.derivs = FALSE)\n",
    "#             dummy <- slice %>% \n",
    "#             # generate 10 bootstrap replicates of dataset\n",
    "#             bootstrap(3) %>% \n",
    "#             # run mixed effects regression on each bootstrap replicate\n",
    "#             mutate(models = lapply(.$strap, function(x) {\n",
    "#               relmatLmer(as.formula(paste(trait, '1 + (1|indiv_id)', sep = ' ~ ')), data = x,\n",
    "#                          relmat = list(indiv_id = modified_grm_id_tagged),calc.derivs = FALSE)\n",
    "#             })) %>% \n",
    "#             # compute ICC for each \"bootstrapped\" regression\n",
    "#             mutate(icc = unlist(lapply(.$models, function(x){icc(x)$ICC_adjusted})));\n",
    "#             se <- boot_se(dummy, icc)[2]\n",
    "#             p <- boot_p(dummy, icc)[2]\n",
    "#             print(se)\n",
    "#             h2_estimates[nrow(h2_estimates) + 1,] <- data.frame(trait,treatment,lme4qtl::VarProp(full_mod)$prop[1],time,se,p)\n",
    "#         }\n",
    "#     }\n",
    "# }"
   ]
  },
  {
   "cell_type": "code",
   "execution_count": null,
   "id": "lyric-portal",
   "metadata": {},
   "outputs": [],
   "source": []
  }
 ],
 "metadata": {
  "kernelspec": {
   "display_name": "R",
   "language": "R",
   "name": "ir"
  },
  "language_info": {
   "codemirror_mode": "r",
   "file_extension": ".r",
   "mimetype": "text/x-r-source",
   "name": "R",
   "pygments_lexer": "r",
   "version": "4.1.0"
  }
 },
 "nbformat": 4,
 "nbformat_minor": 5
}
